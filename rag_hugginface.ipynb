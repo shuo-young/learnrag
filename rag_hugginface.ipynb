{
 "cells": [
  {
   "cell_type": "code",
   "execution_count": null,
   "metadata": {
    "vscode": {
     "languageId": "shellscript"
    }
   },
   "outputs": [],
   "source": [
    "pip install transformers datasets faiss-cpu"
   ]
  },
  {
   "cell_type": "code",
   "execution_count": null,
   "metadata": {},
   "outputs": [],
   "source": [
    "import getpass\n",
    "import os\n",
    "\n",
    "HUGGINGFACE_API_KEY = getpass.getpass()\n",
    "os.environ[\"HUGGINGFACE_API_KEY\"] = HUGGINGFACE_API_KEY"
   ]
  },
  {
   "cell_type": "code",
   "execution_count": null,
   "metadata": {},
   "outputs": [],
   "source": [
    "from langchain_community.embeddings.huggingface import HuggingFaceInferenceAPIEmbeddings\n",
    "from langchain_community.vectorstores import FAISS\n",
    "from langchain.docstore.document import Document\n",
    "from pathlib import Path"
   ]
  },
  {
   "cell_type": "code",
   "execution_count": null,
   "metadata": {},
   "outputs": [],
   "source": [
    "import json\n",
    "\n",
    "# Example JSON format: [{\"text\": \"document 1 text\"}, {\"text\": \"document 2 text\"}, ...]\n",
    "\n",
    "# File path to your JSON file\n",
    "json_file_path = 'data.json'\n",
    "\n",
    "# Load documents into a dataset\n",
    "data = data = json.loads(Path(json_file_path).read_text())\n",
    "texts = []\n",
    "for json in data:\n",
    "    desciption = json['description']\n",
    "    poc_code = json['poc_code']\n",
    "    vulnerable_code = json['vulnerable_code']\n",
    "    text_to_embed = f\"{desciption} {poc_code} {vulnerable_code}\" # need to design prompt template\n",
    "    texts.append(text_to_embed)\n",
    "texts"
   ]
  },
  {
   "cell_type": "code",
   "execution_count": null,
   "metadata": {},
   "outputs": [],
   "source": [
    "documents = [Document(page_content=text) for text in texts]\n",
    "embeddings = HuggingFaceInferenceAPIEmbeddings(\n",
    "    api_key=HUGGINGFACE_API_KEY,\n",
    "    model_name=\"sentence-transformers/all-MiniLM-l6-v2\",\n",
    ")\n",
    "\n",
    "# Generate embeddings for the document contents\n",
    "doc_contents = [doc.page_content for doc in documents]\n",
    "doc_embeddings = embeddings.embed_documents(doc_contents)\n",
    "\n",
    "print(f\"Type of doc_embeddings: {type(doc_embeddings)}\")\n",
    "print(f\"Embedding for the first document: {doc_embeddings}\")\n",
    "\n",
    "print(f\"Embedding for the first document: {doc_embeddings[0]}\")\n",
    "\n",
    "# print(texts[0])\n",
    "vectorstore = FAISS.from_documents(\n",
    "    documents=documents,\n",
    "    embedding=embeddings,\n",
    ")\n",
    "\n",
    "retriever = vectorstore.as_retriever()"
   ]
  },
  {
   "cell_type": "code",
   "execution_count": null,
   "metadata": {},
   "outputs": [],
   "source": []
  }
 ],
 "metadata": {
  "kernelspec": {
   "display_name": "langchain",
   "language": "python",
   "name": "python3"
  },
  "language_info": {
   "codemirror_mode": {
    "name": "ipython",
    "version": 3
   },
   "file_extension": ".py",
   "mimetype": "text/x-python",
   "name": "python",
   "nbconvert_exporter": "python",
   "pygments_lexer": "ipython3",
   "version": "3.12.5"
  }
 },
 "nbformat": 4,
 "nbformat_minor": 2
}
